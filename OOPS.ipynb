{
 "cells": [
  {
   "cell_type": "code",
   "execution_count": 3,
   "id": "6e8b886e-6d2d-4285-ae45-4fe0abead0c3",
   "metadata": {},
   "outputs": [],
   "source": [
    "#Explain the importance of functions.\n",
    "#Functions in Python, as in most programming languages, are crucial for several reasons. They enhance code organization, promote reusability, improve readability, and facilitate debugging and testing. "
   ]
  },
  {
   "cell_type": "code",
   "execution_count": 4,
   "id": "6f92f9c6-71fa-4b22-8277-5cbe8c6eba61",
   "metadata": {},
   "outputs": [
    {
     "name": "stdout",
     "output_type": "stream",
     "text": [
      "Hello students, how are you!\n"
     ]
    }
   ],
   "source": [
    "#Write a basic function to greet students.\n",
    "def greet(s):\n",
    "    return s\n",
    "s=\"Hello students, how are you!\"\n",
    "print(s)"
   ]
  },
  {
   "cell_type": "code",
   "execution_count": 5,
   "id": "704392e1-3553-44e7-ad1f-b0fc8b484076",
   "metadata": {},
   "outputs": [],
   "source": [
    "# What is the difference between print and return statements?\n",
    "# The print statement is used to display information to the console (standard output).\n",
    "# The return statement is used to exit a function and pass a value back to the caller."
   ]
  },
  {
   "cell_type": "code",
   "execution_count": 6,
   "id": "8f922344-8ee5-4bcd-8689-3364f34e7fbe",
   "metadata": {},
   "outputs": [],
   "source": [
    "# What are *args and **kwargs?\n",
    "#In Python, *args and **kwargs are used to pass a variable number of arguments to a function. They are useful when you don't know beforehand how many arguments a function will receive."
   ]
  },
  {
   "cell_type": "code",
   "execution_count": 7,
   "id": "4f138112-3c88-42c5-85e5-c02f8a1803af",
   "metadata": {},
   "outputs": [],
   "source": [
    "# Explain the iterator function.\n",
    "#An iterator function is a type of function in programming that provides a mechanism to traverse through a collection of items, such as elements in an array or entries in a database, one at a time. Iterators are commonly used to simplify the process of iterating over data structures without exposing the underlying representation of the data."
   ]
  },
  {
   "cell_type": "code",
   "execution_count": 21,
   "id": "c4250424-3620-427a-b508-89d0fcfd4f0b",
   "metadata": {},
   "outputs": [
    {
     "name": "stdout",
     "output_type": "stream",
     "text": [
      "1\n",
      "4\n",
      "9\n",
      "16\n",
      "25\n",
      "36\n",
      "49\n",
      "64\n",
      "81\n",
      "100\n"
     ]
    }
   ],
   "source": [
    "# Write a code that generates the squares of numbers from 1 to n using a generator.\n",
    "def generate_squares(n):\n",
    "    for i in range(1, n + 1):\n",
    "        yield i * i\n",
    "n = 10\n",
    "for square in generate_squares(n):\n",
    "    print(square)"
   ]
  },
  {
   "cell_type": "code",
   "execution_count": 22,
   "id": "a3b4f8f8-9053-4395-af88-1d4d9e9c89fb",
   "metadata": {},
   "outputs": [
    {
     "name": "stdout",
     "output_type": "stream",
     "text": [
      "0\n",
      "1\n",
      "2\n",
      "3\n",
      "4\n",
      "5\n",
      "6\n",
      "7\n",
      "8\n",
      "9\n",
      "11\n",
      "22\n",
      "33\n",
      "44\n",
      "55\n",
      "66\n",
      "77\n",
      "88\n",
      "99\n",
      "101\n",
      "111\n",
      "121\n",
      "131\n",
      "141\n",
      "151\n",
      "161\n",
      "171\n",
      "181\n",
      "191\n"
     ]
    }
   ],
   "source": [
    "# Write a code that generates palindromic numbers up to n using a generator.\n",
    "def is_palindrome(num):\n",
    "    return str(num) == str(num)[::-1]\n",
    "def palindromic_numbers_up_to(n):\n",
    "    for i in range(n + 1):\n",
    "        if is_palindrome(i):\n",
    "            yield i\n",
    "n = 200 \n",
    "for palindromic_number in palindromic_numbers_up_to(n):\n",
    "    print(palindromic_number)"
   ]
  },
  {
   "cell_type": "code",
   "execution_count": 32,
   "id": "56e6dba0-dd08-4154-b12a-73bf6df2291e",
   "metadata": {},
   "outputs": [
    {
     "name": "stdout",
     "output_type": "stream",
     "text": [
      "2\n",
      "4\n",
      "6\n",
      "8\n",
      "10\n",
      "12\n",
      "14\n",
      "16\n",
      "18\n",
      "20\n",
      "22\n",
      "24\n",
      "26\n",
      "28\n",
      "30\n",
      "32\n",
      "34\n",
      "36\n",
      "38\n",
      "40\n",
      "42\n",
      "44\n",
      "46\n",
      "48\n",
      "50\n",
      "52\n",
      "54\n",
      "56\n",
      "58\n",
      "60\n",
      "62\n",
      "64\n",
      "66\n",
      "68\n",
      "70\n",
      "72\n",
      "74\n",
      "76\n",
      "78\n",
      "80\n",
      "82\n",
      "84\n",
      "86\n",
      "88\n",
      "90\n",
      "92\n",
      "94\n",
      "96\n",
      "98\n"
     ]
    }
   ],
   "source": [
    "# Write a code that generates even numbers from 2 to n using a generator.\n",
    "def is_even(n):\n",
    "    for i in range(2,n):\n",
    "        if i%2==0:\n",
    "            yield i\n",
    "n=100\n",
    "for e in is_even(n):\n",
    "    print(e)"
   ]
  },
  {
   "cell_type": "code",
   "execution_count": 36,
   "id": "b73362f7-18e7-4d8c-9933-78f25064bbed",
   "metadata": {},
   "outputs": [
    {
     "name": "stdout",
     "output_type": "stream",
     "text": [
      "2\n",
      "4\n",
      "8\n",
      "16\n",
      "32\n",
      "64\n",
      "128\n",
      "256\n",
      "512\n",
      "1024\n",
      "2048\n",
      "4096\n",
      "8192\n",
      "16384\n",
      "32768\n",
      "65536\n",
      "131072\n",
      "262144\n",
      "524288\n"
     ]
    }
   ],
   "source": [
    "# Write a code that generates powers of two up to n using a generator.\n",
    "def power(n):\n",
    "    for i in range(1,n):\n",
    "        yield 2**i\n",
    "n=20\n",
    "for paw in power(n):\n",
    "    print(paw)"
   ]
  },
  {
   "cell_type": "code",
   "execution_count": 39,
   "id": "3442f131-7bbf-471e-bd14-f9e794941bfa",
   "metadata": {},
   "outputs": [
    {
     "name": "stdout",
     "output_type": "stream",
     "text": [
      "0\n",
      "1\n",
      "2\n",
      "3\n",
      "4\n",
      "5\n",
      "6\n",
      "7\n",
      "8\n",
      "9\n"
     ]
    }
   ],
   "source": [
    "# Write a code that generates prime numbers up to n using a generator.\n",
    "from math import sqrt\n",
    "def is_prime(n):\n",
    "    if(n<=1):\n",
    "        return True\n",
    "    if(n==2):\n",
    "        return False\n",
    "    if(n%2==0):\n",
    "        return False\n",
    "    i=3\n",
    "    while i<=sqrt(n):\n",
    "        if n%i==0:\n",
    "            return False\n",
    "    i=i+2\n",
    "    return True\n",
    "def prime_generator():\n",
    "    n=1\n",
    "    while True:\n",
    "        n+=1\n",
    "        if is_prime(n):\n",
    "            yield n\n",
    "generator=prime_generator()\n",
    "for i in range(10):\n",
    "    print(i)"
   ]
  },
  {
   "cell_type": "code",
   "execution_count": 42,
   "id": "06747ff7-1c8e-4c48-8bbf-cbff167951c4",
   "metadata": {},
   "outputs": [
    {
     "data": {
      "text/plain": [
       "7"
      ]
     },
     "execution_count": 42,
     "metadata": {},
     "output_type": "execute_result"
    }
   ],
   "source": [
    "# Write a code that uses a lambda function to calculate the sum of two numbers.\n",
    "add=(lambda x,y:x+y)\n",
    "add(3,4)"
   ]
  },
  {
   "cell_type": "code",
   "execution_count": 43,
   "id": "071721c6-4b4a-4893-8ca1-f2a0ae07db34",
   "metadata": {},
   "outputs": [
    {
     "data": {
      "text/plain": [
       "81"
      ]
     },
     "execution_count": 43,
     "metadata": {},
     "output_type": "execute_result"
    }
   ],
   "source": [
    "# Write a code that uses a lambda function to calculate the square of a given number.\n",
    "square=(lambda n:n**2)\n",
    "square(9)"
   ]
  },
  {
   "cell_type": "code",
   "execution_count": 51,
   "id": "ee1e8e3f-9f92-43c2-b39c-4756c2e0adfd",
   "metadata": {},
   "outputs": [
    {
     "name": "stdout",
     "output_type": "stream",
     "text": [
      "True for even and False for odd\n",
      " <function <lambda> at 0x7f8bfc269ea0>\n"
     ]
    },
    {
     "data": {
      "text/plain": [
       "False"
      ]
     },
     "execution_count": 51,
     "metadata": {},
     "output_type": "execute_result"
    }
   ],
   "source": [
    "#Write a code that uses a lambda function to check whether a given number is even or odd.\n",
    "even_or_odd=(lambda x:x%2==0)\n",
    "print(\"True for even and False for odd\\n\",even_or_odd)\n",
    "even_or_odd(109)"
   ]
  },
  {
   "cell_type": "code",
   "execution_count": 53,
   "id": "926720e1-145a-4bc6-b3c5-9e6ab4a36bb2",
   "metadata": {},
   "outputs": [
    {
     "data": {
      "text/plain": [
       "'Hell0 World'"
      ]
     },
     "execution_count": 53,
     "metadata": {},
     "output_type": "execute_result"
    }
   ],
   "source": [
    "# Write a code that uses a lambda function to concatenate two strings.\n",
    "concat=(lambda x,y:x+y)\n",
    "concat(\"Hell0\",\" World\")"
   ]
  },
  {
   "cell_type": "code",
   "execution_count": 55,
   "id": "2203be35-e2d6-40a7-a641-e068960509fa",
   "metadata": {},
   "outputs": [
    {
     "data": {
      "text/plain": [
       "14"
      ]
     },
     "execution_count": 55,
     "metadata": {},
     "output_type": "execute_result"
    }
   ],
   "source": [
    "# Write a code that uses a lambda function to find the maximum of three given numbers.\n",
    "max_min=(lambda a:max(a))\n",
    "a=12,13,14\n",
    "max_min(a)"
   ]
  },
  {
   "cell_type": "code",
   "execution_count": 56,
   "id": "02e773c2-3509-4d0e-8778-39307c0cf7a0",
   "metadata": {},
   "outputs": [
    {
     "data": {
      "text/plain": [
       "1"
      ]
     },
     "execution_count": 56,
     "metadata": {},
     "output_type": "execute_result"
    }
   ],
   "source": [
    "#Write a code that generates the squares of even numbers from a given list.\n",
    "def square(n):\n",
    "    return (n%2==0)**2\n",
    "square(20)"
   ]
  },
  {
   "cell_type": "code",
   "execution_count": 62,
   "id": "8a8c9241-a761-46d1-89e0-44d7e9116ef3",
   "metadata": {},
   "outputs": [
    {
     "name": "stdout",
     "output_type": "stream",
     "text": [
      "[4, 16, 36, 64, 100]\n"
     ]
    }
   ],
   "source": [
    "#Write a code that generates the squares of even numbers from a given list.\n",
    "def square_of_evens(numbers):\n",
    "    squares = [num**2 for num in numbers if num % 2 == 0]\n",
    "    return squares\n",
    "input_list = [1, 2, 3, 4, 5, 6, 7, 8, 9, 10]\n",
    "result = square_of_evens(input_list)\n",
    "print(result)"
   ]
  },
  {
   "cell_type": "code",
   "execution_count": 1,
   "id": "285c9474-b5e3-4c7d-841e-bcc6fe9e9bdb",
   "metadata": {},
   "outputs": [
    {
     "name": "stdout",
     "output_type": "stream",
     "text": [
      "The product of positive numbers is: 12\n"
     ]
    }
   ],
   "source": [
    "# Write a code that calculates the product of positive numbers from a given list.\n",
    "def product_of_positives(numbers):\n",
    "    product = 1\n",
    "    has_positive = False    \n",
    "    for num in numbers:\n",
    "        if num > 0:\n",
    "            product *= num\n",
    "            has_positive = True    \n",
    "    return product if has_positive else 0\n",
    "numbers = [1, -2, 3, 4, 0, -5]\n",
    "result = product_of_positives(numbers)\n",
    "print(\"The product of positive numbers is:\", result)"
   ]
  },
  {
   "cell_type": "code",
   "execution_count": 4,
   "id": "6bc7e840-6a3e-4c5a-85ea-7b405847974f",
   "metadata": {},
   "outputs": [
    {
     "name": "stdout",
     "output_type": "stream",
     "text": [
      "[2, 2, 6, 4, 10]\n"
     ]
    }
   ],
   "source": [
    "#Write a code that doubles the values of odd numbers from a given list.\n",
    "def double_odds(numbers):\n",
    "    doubled_odds = [num * 2 if num % 2 != 0 else num for num in numbers]\n",
    "    return doubled_odds\n",
    "input_list = [1, 2, 3, 4, 5]\n",
    "output_list = double_odds(input_list)\n",
    "print(output_list)  "
   ]
  },
  {
   "cell_type": "code",
   "execution_count": 5,
   "id": "bc71c644-d294-4175-a0de-e95c1ff620d3",
   "metadata": {},
   "outputs": [
    {
     "name": "stdout",
     "output_type": "stream",
     "text": [
      "The sum of cubes of the list [1, 2, 3, 4] is: 100\n"
     ]
    }
   ],
   "source": [
    "# Write a code that calculates the sum of cubes of numbers from a given list.\n",
    "def sum_of_cubes(numbers):\n",
    "    return sum(x**3 for x in numbers)\n",
    "numbers = [1, 2, 3, 4]\n",
    "result = sum_of_cubes(numbers)\n",
    "print(f\"The sum of cubes of the list {numbers} is: {result}\")"
   ]
  },
  {
   "cell_type": "code",
   "execution_count": 12,
   "id": "933a7674-7bdd-4d5a-8ffc-f48323193042",
   "metadata": {},
   "outputs": [
    {
     "name": "stdout",
     "output_type": "stream",
     "text": [
      "[2, 3, 5, 7, 11, 13, 17, 19]\n"
     ]
    }
   ],
   "source": [
    "# Write a code that filters out prime numbers from a given list.\n",
    "def is_prime(n):\n",
    "    if n <= 1:\n",
    "        return False\n",
    "    if n == 2:\n",
    "        return True  \n",
    "    if n % 2 == 0:\n",
    "        return False \n",
    "    for i in range(3, int(n**0.5) + 1, 2):\n",
    "        if n % i == 0:\n",
    "            return False\n",
    "    return True\n",
    "def filter_primes(numbers):\n",
    "        return list(filter(is_prime, numbers))\n",
    "numbers = [2, 3, 4, 5, 6, 7, 8, 9, 10, 11, 12, 13, 14, 15, 16, 17, 18, 19, 20]\n",
    "prime_numbers = filter_primes(numbers)\n",
    "print(prime_numbers)"
   ]
  },
  {
   "cell_type": "code",
   "execution_count": 13,
   "id": "43d04adb-9c33-4cd9-a650-56f4c722989a",
   "metadata": {},
   "outputs": [
    {
     "data": {
      "text/plain": [
       "7"
      ]
     },
     "execution_count": 13,
     "metadata": {},
     "output_type": "execute_result"
    }
   ],
   "source": [
    "# Write a code that uses a lambda function to calculate the sum of two numbers.\n",
    "func=(lambda x,y:x+y)\n",
    "func(3,4)"
   ]
  },
  {
   "cell_type": "code",
   "execution_count": null,
   "id": "c3450893-4748-4521-9af9-12952c1f456a",
   "metadata": {},
   "outputs": [],
   "source": [
    "#"
   ]
  }
 ],
 "metadata": {
  "kernelspec": {
   "display_name": "Python 3 (ipykernel)",
   "language": "python",
   "name": "python3"
  },
  "language_info": {
   "codemirror_mode": {
    "name": "ipython",
    "version": 3
   },
   "file_extension": ".py",
   "mimetype": "text/x-python",
   "name": "python",
   "nbconvert_exporter": "python",
   "pygments_lexer": "ipython3",
   "version": "3.10.8"
  }
 },
 "nbformat": 4,
 "nbformat_minor": 5
}
