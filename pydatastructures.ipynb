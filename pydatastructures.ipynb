{
 "cells": [
  {
   "cell_type": "code",
   "execution_count": 1,
   "id": "e5ef3ff7-a027-439f-8261-7afb49fde0bf",
   "metadata": {},
   "outputs": [
    {
     "data": {
      "text/plain": [
       "'!dlroW ,olleH'"
      ]
     },
     "execution_count": 1,
     "metadata": {},
     "output_type": "execute_result"
    }
   ],
   "source": [
    "#Write a code to reverse a string\n",
    "string1=\"Hello, World!\"\n",
    "string1[::-1]"
   ]
  },
  {
   "cell_type": "code",
   "execution_count": 4,
   "id": "ff17392e-3afb-4545-9e32-62676696cecc",
   "metadata": {},
   "outputs": [
    {
     "name": "stdout",
     "output_type": "stream",
     "text": [
      "4\n"
     ]
    }
   ],
   "source": [
    "#Write a code to count the number of vowels in a string\n",
    "string=\"Karandeep\"\n",
    "vowels=\"aeiouAEIOU\"\n",
    "count=sum(string.count(vowel)for vowel in vowels)\n",
    "print(count)"
   ]
  },
  {
   "cell_type": "code",
   "execution_count": 16,
   "id": "f784b47a-9427-4428-a1b8-bb29a41564b8",
   "metadata": {},
   "outputs": [
    {
     "name": "stdout",
     "output_type": "stream",
     "text": [
      "It's a palindrome!\n"
     ]
    }
   ],
   "source": [
    "#Write a code to check if a given string is a palindrome or not\n",
    "def ip(s):\n",
    "    return s==s[::-1]\n",
    "string=\"malayalam\"\n",
    "if ip(string):\n",
    "    print(\"It's a palindrome!\")\n",
    "else:\n",
    "    print(\"It's not a palindrome\")"
   ]
  },
  {
   "cell_type": "code",
   "execution_count": 32,
   "id": "45852b77-f66b-4382-bfa5-f86981c12d9e",
   "metadata": {},
   "outputs": [
    {
     "name": "stdout",
     "output_type": "stream",
     "text": [
      "The strings are anagrams.\n"
     ]
    }
   ],
   "source": [
    "#Write a code to check if two given strings are anagrams of each other\n",
    "def check(s1,s2):\n",
    "    if(sorted(s1)==sorted(s2)):\n",
    "        print(\"The strings are anagrams.\")\n",
    "    else:\n",
    "        print(\"The strings aren't anagrams.\")\n",
    "s1=\"maan\"\n",
    "s2=\"aman\"\n",
    "check(s1,s2)"
   ]
  },
  {
   "cell_type": "code",
   "execution_count": 1,
   "id": "cf0edf52-4ecb-448e-bfc0-ea45f3504f0d",
   "metadata": {},
   "outputs": [
    {
     "name": "stdout",
     "output_type": "stream",
     "text": [
      "Occurrences of 'hello' in 'hello world hello':\n",
      "[0, 12]\n"
     ]
    }
   ],
   "source": [
    "#Write a code to find all occurrences of a given substring within another string\n",
    "def find_all_occurrences(main_string, sub_string):\n",
    "    occurrences = []\n",
    "    start_index = 0\n",
    "    \n",
    "    while True:\n",
    "        index = main_string.find(sub_string, start_index)\n",
    "        if index == -1:\n",
    "            break\n",
    "        occurrences.append(index)\n",
    "        start_index = index + 1\n",
    "        return occurrences\n",
    "main_string = \"hello world hello\"\n",
    "sub_string = \"hello\"\n",
    "print(\"Occurrences of '{}' in '{}':\".format(sub_string, main_string))\n",
    "print(find_all_occurrences(main_string, sub_string))"
   ]
  },
  {
   "cell_type": "code",
   "execution_count": 2,
   "id": "8f3b05b3-67ac-4f4e-9e9e-f2037989aa76",
   "metadata": {},
   "outputs": [
    {
     "name": "stdout",
     "output_type": "stream",
     "text": [
      "Original string: aabcccccaaa\n",
      "Compressed string: a2b1c5a3\n"
     ]
    }
   ],
   "source": [
    "#Write a code to perform basic string compression using the counts of repeated characters.\n",
    "def compress_string(s):\n",
    "    compressed = \"\"\n",
    "    count = 1\n",
    "    for i in range(len(s)):\n",
    "        if i < len(s) - 1 and s[i] == s[i + 1]:\n",
    "            count += 1\n",
    "        else:            \n",
    "            compressed += s[i] + str(count)           \n",
    "            count = 1   \n",
    "    if len(compressed) < len(s):\n",
    "        return compressed\n",
    "    else:\n",
    "        return s\n",
    "input_str = \"aabcccccaaa\"\n",
    "print(\"Original string:\", input_str)\n",
    "print(\"Compressed string:\", compress_string(input_str))"
   ]
  },
  {
   "cell_type": "code",
   "execution_count": 3,
   "id": "5a576090-9b5a-4925-876e-79ac5657743c",
   "metadata": {},
   "outputs": [
    {
     "name": "stdin",
     "output_type": "stream",
     "text": [
      "Enter a string:  Amanpreet\n"
     ]
    },
    {
     "name": "stdout",
     "output_type": "stream",
     "text": [
      "The string does not have all unique characters.\n"
     ]
    }
   ],
   "source": [
    "#Write a code to determine if a string has all unique characters.\n",
    "def has_unique_characters(input_str):\n",
    "    unique_chars = set()\n",
    "    for char in input_str:      \n",
    "        if char in unique_chars:\n",
    "            return False\n",
    "        else:\n",
    "            unique_chars.add(char)\n",
    "    return True\n",
    "input_string = input(\"Enter a string: \")\n",
    "if has_unique_characters(input_string):\n",
    "    print(\"The string has all unique characters.\")\n",
    "else:\n",
    "    print(\"The string does not have all unique characters.\")"
   ]
  },
  {
   "cell_type": "code",
   "execution_count": 5,
   "id": "24cb0f32-1ef7-472a-8e73-5952b45527d5",
   "metadata": {},
   "outputs": [
    {
     "data": {
      "text/plain": [
       "'karandeep'"
      ]
     },
     "execution_count": 5,
     "metadata": {},
     "output_type": "execute_result"
    }
   ],
   "source": [
    "#Write a code to convert a given string to uppercase or lowercase.\n",
    "string1=\"Amanpreet\"\n",
    "string1.upper()\n",
    "string2=\"Karandeep\"\n",
    "string2.lower()"
   ]
  },
  {
   "cell_type": "code",
   "execution_count": 1,
   "id": "edbdca7d-9162-4b25-8115-5911ddcb0c15",
   "metadata": {},
   "outputs": [
    {
     "data": {
      "text/plain": [
       "14"
      ]
     },
     "execution_count": 1,
     "metadata": {},
     "output_type": "execute_result"
    }
   ],
   "source": [
    "#Write a code to count the number of words in a string.\n",
    "s=\"Amanpreet Kaur\"\n",
    "len(s)"
   ]
  },
  {
   "cell_type": "code",
   "execution_count": 6,
   "id": "b8d137b3-f3e0-48f9-9834-18ce31844556",
   "metadata": {},
   "outputs": [
    {
     "name": "stdout",
     "output_type": "stream",
     "text": [
      "The first string is\n",
      "Apple\n",
      "The second string is\n",
      "Banana\n",
      "The concatenated string is\n",
      "Apple Banana\n"
     ]
    }
   ],
   "source": [
    "#Write a code to concatenate two strings without using the + operator.\n",
    "s1=\"Apple\"\n",
    "s2=\"Banana\"\n",
    "print(\"The first string is\")\n",
    "print(s1)\n",
    "print('The second string is')\n",
    "print(s2)\n",
    "concat=\" \".join([s1,s2])\n",
    "print(\"The concatenated string is\")\n",
    "print(concat)"
   ]
  },
  {
   "cell_type": "code",
   "execution_count": 19,
   "id": "1e3916db-c3e3-4a35-bdc9-b2b77979c608",
   "metadata": {},
   "outputs": [
    {
     "name": "stdout",
     "output_type": "stream",
     "text": [
      "[31, 56, 89, 90]\n"
     ]
    }
   ],
   "source": [
    "#Write a code to remove all occurrences of a specific element from a list.\n",
    "nums=[31,56,89,45,45,45,45,90]\n",
    "frequency=nums.count(45)\n",
    "for i in range(frequency):\n",
    "    nums.remove(45)\n",
    "print(nums)"
   ]
  },
  {
   "cell_type": "code",
   "execution_count": 22,
   "id": "9ce3a31e-782c-40e4-bd4d-157ab3a84fbd",
   "metadata": {},
   "outputs": [
    {
     "name": "stdout",
     "output_type": "stream",
     "text": [
      "[23, 37, 45, 76, 78, 84, 90]\n",
      "Second largest number 84\n"
     ]
    }
   ],
   "source": [
    "#Implement a code to find the second largest number in the given list of integers.\n",
    "nums=[78,45,76,90,23,37,84]\n",
    "nums.sort()\n",
    "print(nums)\n",
    "print(\"Second largest number\",(nums[5]))"
   ]
  },
  {
   "cell_type": "code",
   "execution_count": 2,
   "id": "9a00bbfe-df4a-4cbb-b004-7f3dcef195f8",
   "metadata": {},
   "outputs": [
    {
     "name": "stdout",
     "output_type": "stream",
     "text": [
      "{1: 4, 2: 3, 3: 2, 4: 1}\n"
     ]
    }
   ],
   "source": [
    "#Create a code to count the occurrences of each element in a list and return a dictionary with elements as keys and their counts as values.\n",
    "def count_elements(lst):\n",
    "    element_count = {}\n",
    "    for element in lst:\n",
    "        if element in element_count:\n",
    "            element_count[element] += 1\n",
    "        else:\n",
    "            element_count[element] = 1\n",
    "    return element_count\n",
    "my_list = [1, 2, 3, 4, 1, 2, 3, 1, 2, 1]\n",
    "result = count_elements(my_list)\n",
    "print(result)"
   ]
  },
  {
   "cell_type": "code",
   "execution_count": 4,
   "id": "81dfa3c0-e145-4316-91de-e86cf6768011",
   "metadata": {},
   "outputs": [
    {
     "name": "stdout",
     "output_type": "stream",
     "text": [
      "[5]\n",
      "[5, 4]\n",
      "[5, 4, 3]\n",
      "[5, 4, 3, 2]\n",
      "[5, 4, 3, 2, 1]\n"
     ]
    }
   ],
   "source": [
    "# Write a code to reverse a list in-place without using any built-in reverse functions\n",
    "o=[1,2,3,4,5]\n",
    "r=[]\n",
    "for item in reversed(o):\n",
    "    r.append(item)\n",
    "    print(r)"
   ]
  },
  {
   "cell_type": "code",
   "execution_count": 5,
   "id": "c5a47c75-15ef-4c2f-a798-21e0f15ba479",
   "metadata": {},
   "outputs": [
    {
     "name": "stdout",
     "output_type": "stream",
     "text": [
      "The original list is:[1, 5, 3, 6, 3, 5, 6, 1]\n",
      "The list after removing duplicates:[1, 3, 5, 6]\n"
     ]
    }
   ],
   "source": [
    "# Implement a code to find and remove duplicates from a list while preserving the original order of elements\n",
    "l1=[1,5,3,6,3,5,6,1]\n",
    "print('The original list is:'+str(l1))\n",
    "l1=list(set(l1))\n",
    "print('The list after removing duplicates:'+str(l1))"
   ]
  },
  {
   "cell_type": "code",
   "execution_count": 9,
   "id": "ddbe342e-137b-4e44-bba3-c7a667dbc588",
   "metadata": {},
   "outputs": [
    {
     "name": "stdout",
     "output_type": "stream",
     "text": [
      "Yes,the list is sorted\n"
     ]
    }
   ],
   "source": [
    "# Create a code to check if a given list is sorted (either in ascending or descending order) or not\n",
    "l1=[1,4,5,8,10]\n",
    "sort=all(a<=b for a,b in zip(l1,l1[1:]))\n",
    "if sort:\n",
    "    print(\"Yes,the list is sorted\")\n",
    "else:\n",
    "    print(\"No,the list is not sorted\")"
   ]
  },
  {
   "cell_type": "code",
   "execution_count": 18,
   "id": "7b8909d1-dc13-46dd-b3b5-66e7205afec9",
   "metadata": {},
   "outputs": [
    {
     "name": "stdout",
     "output_type": "stream",
     "text": [
      "[1, 3, 4, 5, 7, 8, 9, 10, 11]\n"
     ]
    }
   ],
   "source": [
    "# Write a code to merge two sorted lists into a single sorted list.\n",
    "l1=[1,4,5,8,10]\n",
    "l2=[3,5,7,9,11]\n",
    "l3=sorted(l1+l2)\n",
    "l3=list(set(l3))\n",
    "print(l3)"
   ]
  },
  {
   "cell_type": "code",
   "execution_count": 21,
   "id": "be66748c-c2df-45d7-9932-205e4e5bcdeb",
   "metadata": {},
   "outputs": [
    {
     "data": {
      "text/plain": [
       "['Rilee']"
      ]
     },
     "execution_count": 21,
     "metadata": {},
     "output_type": "execute_result"
    }
   ],
   "source": [
    "#Implement a code to find the intersection of two given lists.\n",
    "l1=[\"Rilee\",\"Sam\",\"Jonny\"]\n",
    "l2=[\"Sanju\",\"Riyan\",\"Rilee\"]\n",
    "list(set(l1)&set(l2))"
   ]
  },
  {
   "cell_type": "code",
   "execution_count": 25,
   "id": "0fcef8d5-87c1-4b27-be5b-bfe3c2407046",
   "metadata": {},
   "outputs": [
    {
     "name": "stdout",
     "output_type": "stream",
     "text": [
      "[4, 5, 36, 9, 10, 45, 78, 15, 47, 87, 23, 56, 26]\n"
     ]
    }
   ],
   "source": [
    "# Create a code to find the union of two lists without duplicates.\n",
    "l1=[15,9,10,56,23,78,5,4,9]\n",
    "l2=[9,4,5,36,47,26,10,45,87]\n",
    "l3=l1+l2\n",
    "l3=list(set(l3))\n",
    "print(l3)"
   ]
  },
  {
   "cell_type": "code",
   "execution_count": 26,
   "id": "7e3f1b3d-d8cf-446f-940f-9e9ce6dbc0e2",
   "metadata": {},
   "outputs": [
    {
     "name": "stdout",
     "output_type": "stream",
     "text": [
      "Shuffled list: [3, 5, 4, 2, 1]\n"
     ]
    }
   ],
   "source": [
    "#Write a code to shuffle a given list randomly without using any built-in shuffle functions.\n",
    "import random\n",
    "my_list = [1, 2, 3, 4, 5]\n",
    "for i in range(len(my_list) - 1, 0, -1):\n",
    "    j = random.randint(0, i)\n",
    "    my_list[i], my_list[j] = my_list[j], my_list[i]\n",
    "print(\"Shuffled list:\", my_list)\n"
   ]
  },
  {
   "cell_type": "code",
   "execution_count": 27,
   "id": "ddef918a-0a8c-4ca8-b06d-ffcd7f1cfc9e",
   "metadata": {},
   "outputs": [
    {
     "data": {
      "text/plain": [
       "(4, 5)"
      ]
     },
     "execution_count": 27,
     "metadata": {},
     "output_type": "execute_result"
    }
   ],
   "source": [
    "# Write a code that takes two tuples as input and returns a new tuple containing elements that are common to both input tuples.\n",
    "tuple1=(1,2,3,4,5)\n",
    "tuple2=(4,5,6,7,8)\n",
    "tuple(set(tuple1)&set(tuple2))"
   ]
  },
  {
   "cell_type": "code",
   "execution_count": 13,
   "id": "03e0dec0-7f27-4433-8983-9becff7c56a4",
   "metadata": {},
   "outputs": [
    {
     "name": "stdin",
     "output_type": "stream",
     "text": [
      "Enter a set of integers 3,4,5,6\n",
      "Enter a 2nd set of integers 5,6,7,8\n"
     ]
    },
    {
     "name": "stdout",
     "output_type": "stream",
     "text": [
      "Intersection of two sets {5, 6}\n"
     ]
    }
   ],
   "source": [
    "# Create a code that prompts the user to enter two sets of integers separated by commas. Then, print the intersection of these two sets.\n",
    "s1=input(\"Enter a set of integers\")\n",
    "s2=input(\"Enter a 2nd set of integers\")\n",
    "set1=set(map(int,s1.split(\",\")))\n",
    "set2=set(map(int,s2.split(\",\")))\n",
    "intersection=set1 & set2\n",
    "print(\"Intersection of two sets\",intersection)"
   ]
  },
  {
   "cell_type": "code",
   "execution_count": 9,
   "id": "09783d2f-05e8-4c39-8abc-8dce3b43c967",
   "metadata": {},
   "outputs": [
    {
     "name": "stdout",
     "output_type": "stream",
     "text": [
      "(1, 2, 3, 4, 5, 6, 7, 8, 9, 10)\n"
     ]
    }
   ],
   "source": [
    "# Write a code to concatenate two tuples. The function should take two tuples as input and return a new tuple containing elements from both input tuples.\n",
    "t1=(1,2,3,4,5)\n",
    "t2=(6,7,8,9,10)\n",
    "t3=t1+t2\n",
    "print(t3)"
   ]
  },
  {
   "cell_type": "code",
   "execution_count": 6,
   "id": "19752835-21ee-4d38-b6b6-e24884138965",
   "metadata": {},
   "outputs": [
    {
     "name": "stdin",
     "output_type": "stream",
     "text": [
      "Enter the first string amanpreet\n",
      "Enter the second string karandeep\n"
     ]
    },
    {
     "name": "stdout",
     "output_type": "stream",
     "text": [
      "Ellements present in the first set but not in the second set: {'amanpreet'}\n"
     ]
    }
   ],
   "source": [
    "#Develop a code that prompts the user to input two sets of strings. Then, print the elements that are present in the first set but not in the second set.\n",
    "s1=input(\"Enter the first string\")\n",
    "s2=input(\"Enter the second string\")\n",
    "set1=set(s1.split())\n",
    "set2=set(s2.split())\n",
    "difference=set1-set2\n",
    "print(\"Ellements present in the first set but not in the second set:\",difference)"
   ]
  },
  {
   "cell_type": "code",
   "execution_count": 9,
   "id": "70f8d3ed-a9bb-4376-892f-4c86cfe80946",
   "metadata": {},
   "outputs": [
    {
     "data": {
      "text/plain": [
       "(4, 5, 6)"
      ]
     },
     "execution_count": 9,
     "metadata": {},
     "output_type": "execute_result"
    }
   ],
   "source": [
    "# Create a code that takes a tuple and two integers as input. The function should return a new tuple containing elements from the original tuple within the specified range of indices.\n",
    "tupl=(1,2,3,4,5,6,7,8,9)\n",
    "int1=3\n",
    "int2=6\n",
    "tupl[3:6]"
   ]
  },
  {
   "cell_type": "code",
   "execution_count": 12,
   "id": "5d3aed8c-ea72-4ef0-950e-15d3fbd63c55",
   "metadata": {},
   "outputs": [
    {
     "name": "stdin",
     "output_type": "stream",
     "text": [
      "Enter first set of characters Aman\n",
      "Enter second set of characters deep\n"
     ]
    },
    {
     "name": "stdout",
     "output_type": "stream",
     "text": [
      "Union of the two sets of characters {'Aman', 'deep'}\n"
     ]
    }
   ],
   "source": [
    "# Write a code that prompts the user to input two sets of characters. Then, print the union of these two sets.\n",
    "s1=input(\"Enter first set of characters\")\n",
    "s2=input(\"Enter second set of characters\")\n",
    "set1=set(s1.split())\n",
    "set2=set(s2.split())\n",
    "union=set1|set2\n",
    "print(\"Union of the two sets of characters\",union)"
   ]
  },
  {
   "cell_type": "code",
   "execution_count": 13,
   "id": "2d280e8a-f906-4e6b-874f-8a7900e0f486",
   "metadata": {},
   "outputs": [
    {
     "name": "stdout",
     "output_type": "stream",
     "text": [
      "Maximum value 9\n",
      "Minimum value 1\n"
     ]
    }
   ],
   "source": [
    "# Develop a code that takes a tuple of integers as input. The function should return the maximum and minimum values from the tuple using tuple unpacking.\n",
    "tupl=(3,1,4,1,5,9,2,6,5,3,5)\n",
    "max_val,min_val=max(tupl),min(tupl)\n",
    "print(\"Maximum value\",max_val)\n",
    "print(\"Minimum value\",min_val)"
   ]
  },
  {
   "cell_type": "code",
   "execution_count": 14,
   "id": "3b28ef2c-e612-4442-aa8a-119c0d7e53fa",
   "metadata": {},
   "outputs": [
    {
     "name": "stdout",
     "output_type": "stream",
     "text": [
      "Set1 {1, 2, 3, 4, 5}\n",
      "Set2 {4, 5, 6, 7, 8}\n",
      "Union of two sets {1, 2, 3, 4, 5, 6, 7, 8}\n",
      "Intersection of two sets {4, 5}\n",
      "Difference of two sets {1, 2, 3}\n"
     ]
    }
   ],
   "source": [
    "# Create a code that defines two sets of integers. Then, print the union, intersection, and difference of these two sets.\n",
    "set1={1,2,3,4,5}\n",
    "set2={4,5,6,7,8}\n",
    "union=set1|set2\n",
    "intersection=set1&set2\n",
    "difference=set1-set2\n",
    "print(\"Set1\",set1)\n",
    "print(\"Set2\",set2)\n",
    "print(\"Union of two sets\",union)\n",
    "print(\"Intersection of two sets\",intersection)\n",
    "print(\"Difference of two sets\",difference)"
   ]
  },
  {
   "cell_type": "code",
   "execution_count": 15,
   "id": "6eb07b95-3e4b-4d23-afae-f286f00d849a",
   "metadata": {},
   "outputs": [
    {
     "data": {
      "text/plain": [
       "3"
      ]
     },
     "execution_count": 15,
     "metadata": {},
     "output_type": "execute_result"
    }
   ],
   "source": [
    "# Write a code that takes a tuple and an element as input. The function should return the count of occurrences of the given element in the tuple.\n",
    "tupl=(1,2,3,2,4,2,5)\n",
    "element=2\n",
    "tupl.count(2)"
   ]
  },
  {
   "cell_type": "code",
   "execution_count": 22,
   "id": "2f40013b-276c-4fea-af90-f5a4c2651314",
   "metadata": {},
   "outputs": [
    {
     "name": "stdin",
     "output_type": "stream",
     "text": [
      "Enter the first set of strings (comma-separated): apple,banana,cherry\n",
      "Enter the second set of strings (comma-separated): strawberry,banana,mango\n"
     ]
    },
    {
     "name": "stdout",
     "output_type": "stream",
     "text": [
      "Symmetric difference of the two sets: {'strawberry', 'apple', 'cherry', 'mango'}\n"
     ]
    }
   ],
   "source": [
    "# Develop a code that prompts the user to input two sets of strings. Then, print the symmetric difference of these two sets.\n",
    "s1=input(\"Enter the first set of strings (comma-separated):\")\n",
    "s2=input(\"Enter the second set of strings (comma-separated):\")\n",
    "set1=set(s1.split(\",\"))\n",
    "set2=set(s2.split(\",\"))\n",
    "symmetric_difference=set1^set2\n",
    "print(\"Symmetric difference of the two sets:\",symmetric_difference)"
   ]
  },
  {
   "cell_type": "code",
   "execution_count": 23,
   "id": "9c3cc92a-1868-46e7-820f-732c5028ab93",
   "metadata": {},
   "outputs": [
    {
     "name": "stdout",
     "output_type": "stream",
     "text": [
      "{'apple': 3, 'banana': 2, 'orange': 1}\n"
     ]
    }
   ],
   "source": [
    "# Write a code that takes a list of words as input and returns a dictionary where the keys are unique words and the values are the frequencies of those words in the input list.\n",
    "def word_frequencies(word_list):\n",
    "    frequency_dict = {}\n",
    "    for word in word_list:\n",
    "        if word in frequency_dict:\n",
    "            frequency_dict[word] += 1\n",
    "        else:\n",
    "            frequency_dict[word] = 1\n",
    "    return frequency_dict\n",
    "words = [\"apple\", \"banana\", \"apple\", \"orange\", \"banana\", \"apple\"]\n",
    "frequencies = word_frequencies(words)\n",
    "print(frequencies)"
   ]
  },
  {
   "cell_type": "code",
   "execution_count": 24,
   "id": "f537eecc-25cf-489b-93de-5e7351b348a6",
   "metadata": {},
   "outputs": [
    {
     "name": "stdout",
     "output_type": "stream",
     "text": [
      "{'a': 1, 'b': 5, 'c': 7, 'd': 5}\n"
     ]
    }
   ],
   "source": [
    "# Write a code that takes two dictionaries as input and merges them into a single dictionary. If there are common keys, the values should be added together.\n",
    "def merge_dictionaries(dict1, dict2):\n",
    "    merged_dict = dict1.copy() \n",
    "    for key, value in dict2.items():\n",
    "        if key in merged_dict:\n",
    "            merged_dict[key] += value  \n",
    "        else:\n",
    "            merged_dict[key] = value  \n",
    "    return merged_dict\n",
    "dict1 = {'a': 1, 'b': 2, 'c': 3}\n",
    "dict2 = {'b': 3, 'c': 4, 'd': 5}\n",
    "result = merge_dictionaries(dict1, dict2)\n",
    "print(result) "
   ]
  },
  {
   "cell_type": "code",
   "execution_count": 25,
   "id": "4a0fcbb5-5f09-4c6e-93b5-1828bbfe1611",
   "metadata": {},
   "outputs": [
    {
     "name": "stdout",
     "output_type": "stream",
     "text": [
      "42\n",
      "None\n"
     ]
    }
   ],
   "source": [
    "# Write a code to access a value in a nested dictionary. The function should take the dictionary and a list of keys as input, and return the corresponding value. If any of the keys do not exist in the dictionary, the function should return None.\n",
    "def get_nested_value(nested_dict, keys):\n",
    "    current_value = nested_dict\n",
    "    try:\n",
    "        for key in keys:\n",
    "            current_value = current_value[key]\n",
    "    except (KeyError, TypeError):\n",
    "        return None\n",
    "    return current_value\n",
    "nested_dict = {\n",
    "    'a': {\n",
    "        'b': {\n",
    "            'c': 42\n",
    "        }\n",
    "    }\n",
    "}\n",
    "keys = ['a', 'b', 'c']\n",
    "print(get_nested_value(nested_dict, keys))\n",
    "keys = ['a', 'b', 'd']\n",
    "print(get_nested_value(nested_dict, keys))  "
   ]
  },
  {
   "cell_type": "code",
   "execution_count": 27,
   "id": "c80ff477-b3d7-49bc-bd9f-b4eda65283ec",
   "metadata": {},
   "outputs": [
    {
     "data": {
      "text/plain": [
       "[3, 4, 8, 23, 40, 89]"
      ]
     },
     "execution_count": 27,
     "metadata": {},
     "output_type": "execute_result"
    }
   ],
   "source": [
    "# Write a code that takes a dictionary as input and returns a sorted version of it based on the values. You can choose whether to sort in ascending or descending order.\n",
    "dict1={4,3,8,23,89,40}\n",
    "sorted(dict1)"
   ]
  },
  {
   "cell_type": "code",
   "execution_count": 28,
   "id": "177b67de-1942-4e51-a81c-911a1a8e79a6",
   "metadata": {},
   "outputs": [
    {
     "name": "stdout",
     "output_type": "stream",
     "text": [
      "{1: ['a', 'c'], 2: ['b'], 3: ['d']}\n"
     ]
    }
   ],
   "source": [
    "# Write a code that inverts a dictionary, swapping keys and values. Ensure that the inverted dictionary correctly handles cases where multiple keys have the same value by storing the keys as a list in the inverted dictionary.\n",
    "def invert_dict(d):\n",
    "    inverted_dict = {}\n",
    "    for key, value in d.items():\n",
    "        if value not in inverted_dict:\n",
    "            inverted_dict[value] = [key]\n",
    "        else:\n",
    "            inverted_dict[value].append(key)\n",
    "    return inverted_dict\n",
    "original_dict = {'a': 1, 'b': 2, 'c': 1, 'd': 3}\n",
    "inverted = invert_dict(original_dict)\n",
    "print(inverted)"
   ]
  },
  {
   "cell_type": "code",
   "execution_count": null,
   "id": "b59f7253-24a4-4831-9924-cc3ddae7cf27",
   "metadata": {},
   "outputs": [],
   "source": []
  }
 ],
 "metadata": {
  "kernelspec": {
   "display_name": "Python 3 (ipykernel)",
   "language": "python",
   "name": "python3"
  },
  "language_info": {
   "codemirror_mode": {
    "name": "ipython",
    "version": 3
   },
   "file_extension": ".py",
   "mimetype": "text/x-python",
   "name": "python",
   "nbconvert_exporter": "python",
   "pygments_lexer": "ipython3",
   "version": "3.10.8"
  }
 },
 "nbformat": 4,
 "nbformat_minor": 5
}
